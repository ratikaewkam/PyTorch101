{
 "cells": [
  {
   "cell_type": "code",
   "execution_count": null,
   "id": "890a915a-5439-4c63-abb7-0d8166832d1c",
   "metadata": {},
   "outputs": [],
   "source": []
  }
 ],
 "metadata": {
  "kernelspec": {
   "display_name": "",
   "name": ""
  },
  "language_info": {
   "name": ""
  }
 },
 "nbformat": 4,
 "nbformat_minor": 5
}
